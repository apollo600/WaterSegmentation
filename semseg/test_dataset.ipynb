{
 "cells": [
  {
   "cell_type": "code",
   "execution_count": 11,
   "metadata": {},
   "outputs": [
    {
     "name": "stdout",
     "output_type": "stream",
     "text": [
      "(200,)\n",
      "/home/data/1945/ZDSfloating_objects20230206_V3_train_rivers_37_1_2097.jpg\n",
      "(360, 640, 3)\n",
      "/home/data/1945/ZDSfloating_objects20230206_V3_train_sea_1_001743.jpg\n",
      "(480, 852, 3)\n",
      "/home/data/1945/ZDSfloating_objects20230206_V3_train_sea_1_007966.jpg\n",
      "(480, 852, 3)\n",
      "/home/data/1945/ZDSfloating_objects20230206_V3_train_rivers_26_000509.jpg\n",
      "(1440, 2560, 3)\n",
      "/home/data/1945/ZDSfloating_objects20230206_V3_train_rivers_35_127.jpg\n",
      "(488, 650, 3)\n"
     ]
    }
   ],
   "source": [
    "import os\n",
    "\n",
    "import numpy as np\n",
    "import cv2\n",
    "\n",
    "img_paths = os.listdir(\"/home/data/1945/\")\n",
    "print(np.shape(img_paths))\n",
    "for i in range (10):\n",
    "    path = os.path.join(\"/home/data/1945\", img_paths[i])\n",
    "    if path.split('.')[-1] == 'jpg':\n",
    "        print(path)\n",
    "        img = cv2.imread(path)\n",
    "        print(img.shape)"
   ]
  },
  {
   "cell_type": "code",
   "execution_count": 6,
   "metadata": {},
   "outputs": [
    {
     "name": "stdout",
     "output_type": "stream",
     "text": [
      "/project/train/src_repo/semseg\n",
      "200\n"
     ]
    },
    {
     "name": "stderr",
     "output_type": "stream",
     "text": [
      "Processed::   0%|          | 0/100 [00:00<?, ?it/s]\rProcessed:: 100%|██████████| 100/100 [00:00<00:00, 17893.03it/s]\n"
     ]
    }
   ],
   "source": [
    "def form_datalist(root, data_list):        \n",
    "    if not os.path.isdir(root):\n",
    "        raise RuntimeError(\"dataset not exist\")\n",
    "    if os.path.isfile(data_list):\n",
    "        print(\"Found existing data-list, >>skip\")\n",
    "        return\n",
    "    else:\n",
    "        f = open(data_list, \"w\")\n",
    "    \n",
    "    from tqdm import tqdm\n",
    "    img_paths = os.listdir(root)\n",
    "    img_paths.sort()\n",
    "    print(len(img_paths))\n",
    "    for i in tqdm(range(len(img_paths) // 2), desc=\"Processed:\"):\n",
    "        img_path = os.path.join(root, img_paths[2*i])\n",
    "        label_path = os.path.join(root, img_paths[2*i+1])\n",
    "        if img_path.split('.')[-1] != 'jpg' or label_path.split('.')[-1] != 'png':\n",
    "            raise RuntimeError(f\"Wrong file with {img_path}, {label_path}\")\n",
    "        f.write(f\"{img_path} {label_path}\\n\")\n",
    "    \n",
    "    f.close()\n",
    "\n",
    "root = \"/home/data/1945\"\n",
    "pwd = os.getcwd()\n",
    "print(pwd)\n",
    "data_list = os.path.join(pwd, \"dataset/ddd/list/train_aug.txt\")\n",
    "\n",
    "form_datalist(root, data_list)"
   ]
  },
  {
   "cell_type": "code",
   "execution_count": 7,
   "metadata": {},
   "outputs": [
    {
     "name": "stderr",
     "output_type": "stream",
     "text": [
      "/usr/local/lib/python3.7/dist-packages/tqdm/auto.py:21: TqdmWarning: IProgress not found. Please update jupyter and ipywidgets. See https://ipywidgets.readthedocs.io/en/stable/user_install.html\n",
      "  from .autonotebook import tqdm as notebook_tqdm\n"
     ]
    },
    {
     "name": "stdout",
     "output_type": "stream",
     "text": [
      "True\n"
     ]
    }
   ],
   "source": [
    "import torch\n",
    "print(torch.cuda.is_available())"
   ]
  }
 ],
 "metadata": {
  "kernelspec": {
   "display_name": "Python 3",
   "language": "python",
   "name": "python3"
  },
  "language_info": {
   "codemirror_mode": {
    "name": "ipython",
    "version": 3
   },
   "file_extension": ".py",
   "mimetype": "text/x-python",
   "name": "python",
   "nbconvert_exporter": "python",
   "pygments_lexer": "ipython3",
   "version": "3.7.5"
  },
  "orig_nbformat": 4,
  "vscode": {
   "interpreter": {
    "hash": "767d51c1340bd893661ea55ea3124f6de3c7a262a8b4abca0554b478b1e2ff90"
   }
  }
 },
 "nbformat": 4,
 "nbformat_minor": 2
}
