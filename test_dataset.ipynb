{
 "cells": [
  {
   "cell_type": "code",
   "execution_count": 11,
   "metadata": {},
   "outputs": [
    {
     "name": "stdout",
     "output_type": "stream",
     "text": [
      "(200,)\n",
      "/home/data/1945/ZDSfloating_objects20230206_V3_train_rivers_37_1_2097.jpg\n",
      "(360, 640, 3)\n",
      "/home/data/1945/ZDSfloating_objects20230206_V3_train_sea_1_001743.jpg\n",
      "(480, 852, 3)\n",
      "/home/data/1945/ZDSfloating_objects20230206_V3_train_sea_1_007966.jpg\n",
      "(480, 852, 3)\n",
      "/home/data/1945/ZDSfloating_objects20230206_V3_train_rivers_26_000509.jpg\n",
      "(1440, 2560, 3)\n",
      "/home/data/1945/ZDSfloating_objects20230206_V3_train_rivers_35_127.jpg\n",
      "(488, 650, 3)\n"
     ]
    }
   ],
   "source": [
    "import os\n",
    "\n",
    "import numpy as np\n",
    "import cv2\n",
    "\n",
    "img_paths = os.listdir(\"/home/data/1945/\")\n",
    "print(np.shape(img_paths))\n",
    "for i in range (10):\n",
    "    path = os.path.join(\"/home/data/1945\", img_paths[i])\n",
    "    if path.split('.')[-1] == 'jpg':\n",
    "        print(path)\n",
    "        img = cv2.imread(path)\n",
    "        print(img.shape)"
   ]
  }
 ],
 "metadata": {
  "kernelspec": {
   "display_name": "Python 3",
   "language": "python",
   "name": "python3"
  },
  "language_info": {
   "codemirror_mode": {
    "name": "ipython",
    "version": 3
   },
   "file_extension": ".py",
   "mimetype": "text/x-python",
   "name": "python",
   "nbconvert_exporter": "python",
   "pygments_lexer": "ipython3",
   "version": "3.7.5 (default, Dec  9 2021, 17:04:37) \n[GCC 8.4.0]"
  },
  "orig_nbformat": 4,
  "vscode": {
   "interpreter": {
    "hash": "767d51c1340bd893661ea55ea3124f6de3c7a262a8b4abca0554b478b1e2ff90"
   }
  }
 },
 "nbformat": 4,
 "nbformat_minor": 2
}
