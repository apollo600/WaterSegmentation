{
 "cells": [
  {
   "cell_type": "code",
   "execution_count": 11,
   "metadata": {},
   "outputs": [
    {
     "name": "stdout",
     "output_type": "stream",
     "text": [
      "(200,)\n",
      "/home/data/1945/ZDSfloating_objects20230206_V3_train_rivers_37_1_2097.jpg\n",
      "(360, 640, 3)\n",
      "/home/data/1945/ZDSfloating_objects20230206_V3_train_sea_1_001743.jpg\n",
      "(480, 852, 3)\n",
      "/home/data/1945/ZDSfloating_objects20230206_V3_train_sea_1_007966.jpg\n",
      "(480, 852, 3)\n",
      "/home/data/1945/ZDSfloating_objects20230206_V3_train_rivers_26_000509.jpg\n",
      "(1440, 2560, 3)\n",
      "/home/data/1945/ZDSfloating_objects20230206_V3_train_rivers_35_127.jpg\n",
      "(488, 650, 3)\n"
     ]
    }
   ],
   "source": [
    "import os\n",
    "\n",
    "import numpy as np\n",
    "import cv2\n",
    "\n",
    "img_paths = os.listdir(\"/home/data/1945/\")\n",
    "print(np.shape(img_paths))\n",
    "for i in range (10):\n",
    "    path = os.path.join(\"/home/data/1945\", img_paths[i])\n",
    "    if path.split('.')[-1] == 'jpg':\n",
    "        print(path)\n",
    "        img = cv2.imread(path)\n",
    "        print(img.shape)"
   ]
  },
  {
   "cell_type": "code",
   "execution_count": 5,
   "metadata": {},
   "outputs": [
    {
     "ename": "FileNotFoundError",
     "evalue": "[Errno 2] No such file or directory: 'dataset/ddd/list/train_aug.txt'",
     "output_type": "error",
     "traceback": [
      "\u001b[0;31m---------------------------------------------------------------------------\u001b[0m",
      "\u001b[0;31mFileNotFoundError\u001b[0m                         Traceback (most recent call last)",
      "\u001b[0;32m/tmp/ipykernel_26784/3037183311.py\u001b[0m in \u001b[0;36m<module>\u001b[0;34m\u001b[0m\n\u001b[1;32m     22\u001b[0m \u001b[0mdata_list\u001b[0m \u001b[0;34m=\u001b[0m \u001b[0;34m\"dataset/ddd/list/train_aug.txt\"\u001b[0m\u001b[0;34m\u001b[0m\u001b[0;34m\u001b[0m\u001b[0m\n\u001b[1;32m     23\u001b[0m \u001b[0;34m\u001b[0m\u001b[0m\n\u001b[0;32m---> 24\u001b[0;31m \u001b[0mform_datalist\u001b[0m\u001b[0;34m(\u001b[0m\u001b[0mroot\u001b[0m\u001b[0;34m,\u001b[0m \u001b[0mdata_list\u001b[0m\u001b[0;34m)\u001b[0m\u001b[0;34m\u001b[0m\u001b[0;34m\u001b[0m\u001b[0m\n\u001b[0m",
      "\u001b[0;32m/tmp/ipykernel_26784/3037183311.py\u001b[0m in \u001b[0;36mform_datalist\u001b[0;34m(root, data_list)\u001b[0m\n\u001b[1;32m      6\u001b[0m         \u001b[0;32mreturn\u001b[0m\u001b[0;34m\u001b[0m\u001b[0;34m\u001b[0m\u001b[0m\n\u001b[1;32m      7\u001b[0m     \u001b[0;32melse\u001b[0m\u001b[0;34m:\u001b[0m\u001b[0;34m\u001b[0m\u001b[0;34m\u001b[0m\u001b[0m\n\u001b[0;32m----> 8\u001b[0;31m         \u001b[0mf\u001b[0m \u001b[0;34m=\u001b[0m \u001b[0mopen\u001b[0m\u001b[0;34m(\u001b[0m\u001b[0mdata_list\u001b[0m\u001b[0;34m,\u001b[0m \u001b[0;34m'w'\u001b[0m\u001b[0;34m)\u001b[0m\u001b[0;34m\u001b[0m\u001b[0;34m\u001b[0m\u001b[0m\n\u001b[0m\u001b[1;32m      9\u001b[0m \u001b[0;34m\u001b[0m\u001b[0m\n\u001b[1;32m     10\u001b[0m     \u001b[0;32mfrom\u001b[0m \u001b[0mtqdm\u001b[0m \u001b[0;32mimport\u001b[0m \u001b[0mtqdm\u001b[0m\u001b[0;34m\u001b[0m\u001b[0;34m\u001b[0m\u001b[0m\n",
      "\u001b[0;31mFileNotFoundError\u001b[0m: [Errno 2] No such file or directory: 'dataset/ddd/list/train_aug.txt'"
     ]
    }
   ],
   "source": [
    "def form_datalist(root, data_list):        \n",
    "    if not os.path.isdir(root):\n",
    "        raise RuntimeError(\"dataset not exist\")\n",
    "    if os.path.isfile(data_list):\n",
    "        print(\"Found existing data-list, >>skip\")\n",
    "        return\n",
    "    else:\n",
    "        f = open(data_list, \"w\")\n",
    "    \n",
    "    from tqdm import tqdm\n",
    "    img_paths = os.listdir(root).sort()\n",
    "    for i in tqdm(range(len(img_paths) // 2), desc=\"Processed:\"):\n",
    "        img_path = os.path.join(root, img_paths[2*i])\n",
    "        label_path = os.path.join(root, img_paths[2*i+1])\n",
    "        if img_path.split('.')[-1] != 'jpg' or label_path.split('.')[-1] != 'png':\n",
    "            raise RuntimeError(f\"Wrong file with {img_path}, {label_path}\")\n",
    "        f.write(f\"{img_path} {label_path}\\n\")\n",
    "    \n",
    "    f.close()\n",
    "\n",
    "root = \"/home/data/1945\"\n",
    "pwd = os.path.\n",
    "data_list = \"dataset/ddd/list/train_aug.txt\"\n",
    "\n",
    "form_datalist(root, data_list)"
   ]
  }
 ],
 "metadata": {
  "kernelspec": {
   "display_name": "Python 3",
   "language": "python",
   "name": "python3"
  },
  "language_info": {
   "codemirror_mode": {
    "name": "ipython",
    "version": 3
   },
   "file_extension": ".py",
   "mimetype": "text/x-python",
   "name": "python",
   "nbconvert_exporter": "python",
   "pygments_lexer": "ipython3",
   "version": "3.7.5"
  },
  "orig_nbformat": 4,
  "vscode": {
   "interpreter": {
    "hash": "767d51c1340bd893661ea55ea3124f6de3c7a262a8b4abca0554b478b1e2ff90"
   }
  }
 },
 "nbformat": 4,
 "nbformat_minor": 2
}
